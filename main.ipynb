{
 "cells": [
  {
   "attachments": {},
   "cell_type": "markdown",
   "metadata": {},
   "source": [
    "# Risk assessment through Satellite Scanning\n",
    "\n",
    "This script uses `VIRASS` to generate a tree inventory along the power line. "
   ]
  },
  {
   "cell_type": "code",
   "execution_count": 1,
   "metadata": {},
   "outputs": [
    {
     "name": "stderr",
     "output_type": "stream",
     "text": [
      "c:\\Users\\miche\\anaconda3\\lib\\site-packages\\h5py\\__init__.py:36: UserWarning: h5py is running against HDF5 1.12.2 when it was built against 1.12.1, this may cause problems\n",
      "  _warn((\"h5py is running against HDF5 {0} when it was built against {1}, \"\n"
     ]
    }
   ],
   "source": [
    "import VIRASS as ges\n",
    "import geopandas\n",
    "import matplotlib.pyplot as plt"
   ]
  },
  {
   "cell_type": "code",
   "execution_count": 2,
   "metadata": {},
   "outputs": [],
   "source": [
    "#--Load power line\n",
    "power_line = ges.io.load_infrastructure_line(\"_data/power_lines/Kraftnett_files/power_lines.gpkg\", crs = 32632)\n",
    "power_line = ges.infrastructure_utils.clean_line(power_line)\n",
    "\n",
    "# Export it\n",
    "#power_line.to_file(\"_data/power_lines/Kraftnett_files/power_lines.gpkg\", driver = \"GPKG\")"
   ]
  },
  {
   "cell_type": "code",
   "execution_count": null,
   "metadata": {},
   "outputs": [],
   "source": [
    "# Create corridor\n",
    "corridor = ges.infrastructure_utils.create_corridor(power_line, corridor_size = 30)"
   ]
  },
  {
   "cell_type": "markdown",
   "metadata": {},
   "source": [
    "### Tree inventory generation"
   ]
  },
  {
   "cell_type": "code",
   "execution_count": null,
   "metadata": {},
   "outputs": [],
   "source": [
    "# Tree inventory generation\n",
    "tree_inventory = ges.io.load_tree_inventory(\"_data/trees/crowns/tree_inventory.gpkg\")\n",
    "\n",
    "if tree_inventory is None:\n",
    "    # generate it\n",
    "    tree_inventory = ges.infrastructure_utils.generate_tree_inventory_along_power_lines(power_line, \n",
    "                                satellite_map_file = \"_data/WorldView_area.tif\", \n",
    "                                tree_mask_file = \"_data/trees/tree_segmentation/tree_pred_bn_Unet_attention_segmenter_1_4.tif\",\n",
    "                                large_corridor_side_size = 30, small_corridor_side_size = 10,\n",
    "                                tree_species_map_file = \"_data/trees/tree_species/R_refined_2_Q.tif\", \n",
    "                                nDSM_map_file = \"_data/trees/3D_modeling/nDSM_pred.tif\", \n",
    "                                mode = \"multiscale\")        \n",
    "    tree_inventory.to_file(\"_data/trees/crowns/tree_inventory.gpkg\", driver = \"GPKG\") \n"
   ]
  },
  {
   "cell_type": "markdown",
   "metadata": {},
   "source": [
    "The tree inventory shows the location ,species, height and other parameters of all the trees in the `large_corridor_side_size` (set by default to 30 meters).\n",
    "Some parameters (like DBH and shielding factors) are calculated only for trees inside `small_corridor_side_size` (set by default to 10 meters), otherwise they are NaN."
   ]
  },
  {
   "cell_type": "code",
   "execution_count": 5,
   "metadata": {},
   "outputs": [
    {
     "data": {
      "text/html": [
       "<div>\n",
       "<style scoped>\n",
       "    .dataframe tbody tr th:only-of-type {\n",
       "        vertical-align: middle;\n",
       "    }\n",
       "\n",
       "    .dataframe tbody tr th {\n",
       "        vertical-align: top;\n",
       "    }\n",
       "\n",
       "    .dataframe thead th {\n",
       "        text-align: right;\n",
       "    }\n",
       "</style>\n",
       "<table border=\"1\" class=\"dataframe\">\n",
       "  <thead>\n",
       "    <tr style=\"text-align: right;\">\n",
       "      <th></th>\n",
       "      <th>pointX</th>\n",
       "      <th>pointY</th>\n",
       "      <th>crown_radius</th>\n",
       "      <th>power_line_segment</th>\n",
       "      <th>tree_species</th>\n",
       "      <th>tree_height</th>\n",
       "      <th>dst_to_line</th>\n",
       "      <th>DBH</th>\n",
       "      <th>f_shield_N</th>\n",
       "      <th>f_shield_NE</th>\n",
       "      <th>f_shield_E</th>\n",
       "      <th>f_shield_SE</th>\n",
       "      <th>f_shield_S</th>\n",
       "      <th>f_shield_SW</th>\n",
       "      <th>f_shield_W</th>\n",
       "      <th>f_shield_NW</th>\n",
       "      <th>geometry</th>\n",
       "    </tr>\n",
       "  </thead>\n",
       "  <tbody>\n",
       "    <tr>\n",
       "      <th>0</th>\n",
       "      <td>294644.41</td>\n",
       "      <td>6806476.0</td>\n",
       "      <td>1.229623</td>\n",
       "      <td>0</td>\n",
       "      <td>deciduous</td>\n",
       "      <td>1.740060</td>\n",
       "      <td>29.348850</td>\n",
       "      <td>NaN</td>\n",
       "      <td>NaN</td>\n",
       "      <td>NaN</td>\n",
       "      <td>NaN</td>\n",
       "      <td>NaN</td>\n",
       "      <td>NaN</td>\n",
       "      <td>NaN</td>\n",
       "      <td>NaN</td>\n",
       "      <td>NaN</td>\n",
       "      <td>POLYGON ((294645.640 6806476.000, 294645.634 6...</td>\n",
       "    </tr>\n",
       "    <tr>\n",
       "      <th>1</th>\n",
       "      <td>294648.91</td>\n",
       "      <td>6806475.0</td>\n",
       "      <td>1.465808</td>\n",
       "      <td>0</td>\n",
       "      <td>deciduous</td>\n",
       "      <td>2.195107</td>\n",
       "      <td>29.295565</td>\n",
       "      <td>NaN</td>\n",
       "      <td>NaN</td>\n",
       "      <td>NaN</td>\n",
       "      <td>NaN</td>\n",
       "      <td>NaN</td>\n",
       "      <td>NaN</td>\n",
       "      <td>NaN</td>\n",
       "      <td>NaN</td>\n",
       "      <td>NaN</td>\n",
       "      <td>POLYGON ((294650.376 6806475.000, 294650.369 6...</td>\n",
       "    </tr>\n",
       "    <tr>\n",
       "      <th>2</th>\n",
       "      <td>294650.91</td>\n",
       "      <td>6806471.5</td>\n",
       "      <td>2.092071</td>\n",
       "      <td>0</td>\n",
       "      <td>deciduous</td>\n",
       "      <td>5.798230</td>\n",
       "      <td>26.281626</td>\n",
       "      <td>NaN</td>\n",
       "      <td>NaN</td>\n",
       "      <td>NaN</td>\n",
       "      <td>NaN</td>\n",
       "      <td>NaN</td>\n",
       "      <td>NaN</td>\n",
       "      <td>NaN</td>\n",
       "      <td>NaN</td>\n",
       "      <td>NaN</td>\n",
       "      <td>POLYGON ((294653.002 6806471.500, 294652.992 6...</td>\n",
       "    </tr>\n",
       "    <tr>\n",
       "      <th>3</th>\n",
       "      <td>294652.91</td>\n",
       "      <td>6806473.0</td>\n",
       "      <td>1.954410</td>\n",
       "      <td>0</td>\n",
       "      <td>deciduous</td>\n",
       "      <td>8.745656</td>\n",
       "      <td>28.160834</td>\n",
       "      <td>NaN</td>\n",
       "      <td>NaN</td>\n",
       "      <td>NaN</td>\n",
       "      <td>NaN</td>\n",
       "      <td>NaN</td>\n",
       "      <td>NaN</td>\n",
       "      <td>NaN</td>\n",
       "      <td>NaN</td>\n",
       "      <td>NaN</td>\n",
       "      <td>POLYGON ((294654.864 6806473.000, 294654.855 6...</td>\n",
       "    </tr>\n",
       "    <tr>\n",
       "      <th>4</th>\n",
       "      <td>294655.41</td>\n",
       "      <td>6806470.5</td>\n",
       "      <td>2.676186</td>\n",
       "      <td>0</td>\n",
       "      <td>deciduous</td>\n",
       "      <td>6.583649</td>\n",
       "      <td>26.228341</td>\n",
       "      <td>NaN</td>\n",
       "      <td>NaN</td>\n",
       "      <td>NaN</td>\n",
       "      <td>NaN</td>\n",
       "      <td>NaN</td>\n",
       "      <td>NaN</td>\n",
       "      <td>NaN</td>\n",
       "      <td>NaN</td>\n",
       "      <td>NaN</td>\n",
       "      <td>POLYGON ((294658.086 6806470.500, 294658.073 6...</td>\n",
       "    </tr>\n",
       "  </tbody>\n",
       "</table>\n",
       "</div>"
      ],
      "text/plain": [
       "      pointX     pointY  crown_radius  power_line_segment tree_species  \\\n",
       "0  294644.41  6806476.0      1.229623                   0    deciduous   \n",
       "1  294648.91  6806475.0      1.465808                   0    deciduous   \n",
       "2  294650.91  6806471.5      2.092071                   0    deciduous   \n",
       "3  294652.91  6806473.0      1.954410                   0    deciduous   \n",
       "4  294655.41  6806470.5      2.676186                   0    deciduous   \n",
       "\n",
       "   tree_height  dst_to_line  DBH  f_shield_N  f_shield_NE  f_shield_E  \\\n",
       "0     1.740060    29.348850  NaN         NaN          NaN         NaN   \n",
       "1     2.195107    29.295565  NaN         NaN          NaN         NaN   \n",
       "2     5.798230    26.281626  NaN         NaN          NaN         NaN   \n",
       "3     8.745656    28.160834  NaN         NaN          NaN         NaN   \n",
       "4     6.583649    26.228341  NaN         NaN          NaN         NaN   \n",
       "\n",
       "   f_shield_SE  f_shield_S  f_shield_SW  f_shield_W  f_shield_NW  \\\n",
       "0          NaN         NaN          NaN         NaN          NaN   \n",
       "1          NaN         NaN          NaN         NaN          NaN   \n",
       "2          NaN         NaN          NaN         NaN          NaN   \n",
       "3          NaN         NaN          NaN         NaN          NaN   \n",
       "4          NaN         NaN          NaN         NaN          NaN   \n",
       "\n",
       "                                            geometry  \n",
       "0  POLYGON ((294645.640 6806476.000, 294645.634 6...  \n",
       "1  POLYGON ((294650.376 6806475.000, 294650.369 6...  \n",
       "2  POLYGON ((294653.002 6806471.500, 294652.992 6...  \n",
       "3  POLYGON ((294654.864 6806473.000, 294654.855 6...  \n",
       "4  POLYGON ((294658.086 6806470.500, 294658.073 6...  "
      ]
     },
     "execution_count": 5,
     "metadata": {},
     "output_type": "execute_result"
    }
   ],
   "source": [
    "tree_inventory.head(5) "
   ]
  },
  {
   "cell_type": "markdown",
   "metadata": {},
   "source": [
    "## Static risk map\n",
    "\n",
    "Among the trees on the corridor, assign value 1 to trees that can collide with power lines, 0 otherwise"
   ]
  },
  {
   "cell_type": "code",
   "execution_count": null,
   "metadata": {},
   "outputs": [],
   "source": [
    "# Static risk map\n",
    "static_risk_map = ges.infrastructure_utils.static_risk_map(tree_inventory, power_line_height = 10.8, margin = 2)\n",
    "static_risk_map.to_file(\"_data/trees/crowns/static_risk.gpkg\", driver = \"GPKG\")"
   ]
  },
  {
   "cell_type": "markdown",
   "metadata": {},
   "source": [
    "## Dynamic risk map\n",
    "\n",
    "Calculate the critical wind speed for all trees. \n",
    "Detect trees hat can fall due to input wind (can_fall = 1 or 0). \n",
    "For those that can fall, assign value 1 to trees that can collide with power lines (can_hit = 1 or 0) "
   ]
  },
  {
   "cell_type": "code",
   "execution_count": null,
   "metadata": {},
   "outputs": [],
   "source": [
    "# Dynamic risk map  \n",
    "dynamic_risk_map = ges.infrastructure_utils.dynamic_risk_map(tree_inventory, power_line_height = 10.8, margin = 2, \n",
    "                                                         wind_direction = 'W',\n",
    "                                                         wind_gust_speed = 20, #17.4\n",
    "                                                         power_line = power_line)\n",
    "dynamic_risk_map.to_file(\"_data/trees/crowns/dynamic_risk_20_W.gpkg\", driver = \"GPKG\")"
   ]
  },
  {
   "cell_type": "markdown",
   "metadata": {},
   "source": [
    "### Extra:\n",
    "\n",
    "We can also compute points along the power line (sample by `point_distance`) and count how many dangerous trees there are nearby. Dangerous trees are defined as the trees that can hit the power line."
   ]
  },
  {
   "cell_type": "code",
   "execution_count": null,
   "metadata": {},
   "outputs": [],
   "source": [
    "points_along_power_line = ges.infrastructure_utils.assign_risk_to_power_line(power_line, static_risk_map, \n",
    "                                                                             point_distance = 20, trees_nearby = 10, \n",
    "                                                                             save_output = True, \n",
    "                                                                             save_path = \"_data/power_lines/risk_map_points.gpkg\")"
   ]
  }
 ],
 "metadata": {
  "kernelspec": {
   "display_name": "base",
   "language": "python",
   "name": "python3"
  },
  "language_info": {
   "codemirror_mode": {
    "name": "ipython",
    "version": 3
   },
   "file_extension": ".py",
   "mimetype": "text/x-python",
   "name": "python",
   "nbconvert_exporter": "python",
   "pygments_lexer": "ipython3",
   "version": "3.8.8"
  },
  "orig_nbformat": 4,
  "vscode": {
   "interpreter": {
    "hash": "f82454df3ab4669350e470cecfad51160e6fdff8e76eafd19d8880dd92d922a3"
   }
  }
 },
 "nbformat": 4,
 "nbformat_minor": 2
}

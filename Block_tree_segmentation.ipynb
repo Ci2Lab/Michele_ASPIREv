{
 "cells": [
  {
   "cell_type": "markdown",
   "metadata": {},
   "source": [
    "## Tree segmentation\n",
    "\n",
    "We use the `<TreeSegmenter>` class to build a deep-learning based tree segmentation model."
   ]
  },
  {
   "cell_type": "code",
   "execution_count": null,
   "metadata": {},
   "outputs": [],
   "source": [
    "# Load the GridEyeS library\n",
    "import GridEyeS_lib as ges"
   ]
  },
  {
   "cell_type": "code",
   "execution_count": null,
   "metadata": {},
   "outputs": [],
   "source": [
    "tree_segmenter = ges.tree_segmentation.TreeSegmenter(config_file = \"tree_segmenter_config.yaml\")\n",
    "tree_segmenter.print_attributes()"
   ]
  }
 ],
 "metadata": {
  "language_info": {
   "name": "python"
  },
  "orig_nbformat": 4
 },
 "nbformat": 4,
 "nbformat_minor": 2
}
